{
 "cells": [
  {
   "cell_type": "code",
   "execution_count": 2,
   "metadata": {},
   "outputs": [],
   "source": [
    "import numpy as np"
   ]
  },
  {
   "cell_type": "code",
   "execution_count": 3,
   "metadata": {},
   "outputs": [],
   "source": [
    "def verify_matrix(matrix: list):\n",
    "    previus_value = len(matrix[0])\n",
    "    for line in matrix:\n",
    "        if len(line) != previus_value:\n",
    "            return None\n",
    "    return matrix\n",
    "\n",
    "\n",
    "def get_number_lines_columns(matrix: np.ndarray):\n",
    "    lines = len(matrix)\n",
    "    columns = len(matrix[0])\n",
    "    return lines, columns\n",
    "\n",
    "\n",
    "def create_matrix(matrix):\n",
    "    matrix = verify_matrix(matrix)\n",
    "    return np.array(matrix)\n",
    "\n",
    "\n",
    "def show_matrix(matrix: np.ndarray):\n",
    "    try:\n",
    "        for line in matrix:\n",
    "            for column in line:\n",
    "                print(str(column) + \" \", end=\"\")\n",
    "            print(\"\")\n",
    "    except:\n",
    "        print (\"Nothing to show\")"
   ]
  },
  {
   "cell_type": "code",
   "execution_count": 4,
   "metadata": {},
   "outputs": [],
   "source": [
    "def verify_add_rules(matrix_A: np.ndarray, matrix_B: np.ndarray):\n",
    "    matrix_A = verify_matrix(matrix_A)\n",
    "    matrix_B = verify_matrix(matrix_B)\n",
    "    try:\n",
    "        lines_A, columns_A = get_number_lines_columns(matrix_A)\n",
    "        lines_B, columns_B = get_number_lines_columns(matrix_B)\n",
    "        if (lines_A == lines_B) and (columns_A == columns_B):\n",
    "            return True, lines_A, columns_A\n",
    "        else:\n",
    "            return False, 0, 0\n",
    "    except:\n",
    "        return False, 0, 0\n",
    "\n",
    "    \n",
    "    \n",
    "    \n",
    "def add_matrices (matrix_A: np.ndarray, matrix_B: np.ndarray):\n",
    "    is_possible, lines, columns = verify_add_rules(matrix_A, matrix_B)\n",
    "    if (is_possible == False):\n",
    "        return None\n",
    "    result_matrix = np.zeros((lines, columns))\n",
    "    for i in range(0, lines):\n",
    "        for j in range (0, columns):\n",
    "            result_matrix[i][j] = matrix_A[i][j] + matrix_B[i][j]\n",
    "    return result_matrix\n",
    "\n",
    "def subtract_matrices (matrix_A: np.ndarray, matrix_B: np.ndarray):\n",
    "    for i in range (0, len(matrix_B)):\n",
    "        for j in range (0, len(matrix_B[i])):\n",
    "            matrix_B[i][j] = -matrix_B[i][j]\n",
    "    result_matrix = add_matrices(matrix_A, matrix_B)\n",
    "    return result_matrix"
   ]
  },
  {
   "cell_type": "code",
   "execution_count": 5,
   "metadata": {},
   "outputs": [],
   "source": [
    "def add_matrices_numpy (matrix_A: np.ndarray, matrix_B: np.ndarray):\n",
    "    return matrix_A + matrix_B\n",
    "def subtract_matrices_numpy (matrix_A: np.ndarray, matrix_B: np.ndarray):\n",
    "    return matrix_A - matrix_B"
   ]
  },
  {
   "cell_type": "code",
   "execution_count": 6,
   "metadata": {},
   "outputs": [
    {
     "name": "stdout",
     "output_type": "stream",
     "text": [
      "matrix A:\n",
      "1 2 3 \n",
      "1 2 3 \n",
      "matrix B:\n",
      "1 5 0 \n",
      "1 2 0 \n",
      "add operation: \n",
      "2.0 7.0 3.0 \n",
      "2.0 4.0 3.0 \n",
      "subtract operation: \n",
      "0.0 -3.0 3.0 \n",
      "0.0 0.0 3.0 \n"
     ]
    }
   ],
   "source": [
    "matrix_A = create_matrix([[1, 2, 3], [1, 2, 3]])\n",
    "matrix_B = create_matrix([[1, 5, 0], [1, 2, 0]])\n",
    "print(\"matrix A:\")\n",
    "show_matrix(matrix_A)\n",
    "print(\"matrix B:\")\n",
    "show_matrix(matrix_B)\n",
    "radd_matrix = add_matrices(matrix_A, matrix_B)\n",
    "print(\"add operation: \")\n",
    "show_matrix(radd_matrix)\n",
    "rsubtract_matrix = subtract_matrices(matrix_A, matrix_B)\n",
    "print(\"subtract operation: \")\n",
    "show_matrix(rsubtract_matrix)\n"
   ]
  },
  {
   "cell_type": "code",
   "execution_count": 7,
   "metadata": {},
   "outputs": [
    {
     "name": "stdout",
     "output_type": "stream",
     "text": [
      "Adding the matrices:\n",
      "5 9 \n",
      "4 11 \n",
      "Subtracting the matrices:\n",
      "-3 -5 \n",
      "-2 -7 \n",
      "Multiplaying the matrices A*B:\n",
      "10 25 \n",
      "10 25 \n",
      "Determinant of matrix A: 0.0\n",
      "Determinant of matrix B: 15.0\n"
     ]
    }
   ],
   "source": [
    "matrix_A = np.array([[1, 2], \n",
    "                     [1, 2]])\n",
    "matrix_B = np.array([[4, 7], \n",
    "                     [3, 9]])\n",
    "\n",
    "print ('Adding the matrices:')\n",
    "show_matrix(matrix_A+matrix_B)\n",
    "print ('Subtracting the matrices:')\n",
    "show_matrix(matrix_A-matrix_B)\n",
    "print ('Multiplaying the matrices A*B:')\n",
    "show_matrix(np.dot(matrix_A, matrix_B))\n",
    "print ('Determinant of matrix A:', np.linalg.det(matrix_A))\n",
    "print ('Determinant of matrix B:', np.linalg.det(matrix_B))"
   ]
  },
  {
   "cell_type": "code",
   "execution_count": 8,
   "metadata": {},
   "outputs": [
    {
     "name": "stdout",
     "output_type": "stream",
     "text": [
      "[ 0. -2.  3.]\n"
     ]
    }
   ],
   "source": [
    "coeficient_matrix = np.array([[1, 0, 0], [1, 2, 2], [1, 0, 2]])\n",
    "equations_results = np.array([0, 2, 6])\n",
    "variable_values = np.linalg.solve(coeficient_matrix, equations_results)\n",
    "print(variable_values)"
   ]
  }
 ],
 "metadata": {
  "kernelspec": {
   "display_name": "Python 3",
   "language": "python",
   "name": "python3"
  },
  "language_info": {
   "codemirror_mode": {
    "name": "ipython",
    "version": 3
   },
   "file_extension": ".py",
   "mimetype": "text/x-python",
   "name": "python",
   "nbconvert_exporter": "python",
   "pygments_lexer": "ipython3",
   "version": "3.11.3"
  },
  "orig_nbformat": 4
 },
 "nbformat": 4,
 "nbformat_minor": 2
}
