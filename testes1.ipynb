{
 "cells": [
  {
   "cell_type": "code",
   "execution_count": 72,
   "metadata": {},
   "outputs": [],
   "source": [
    "import numpy as np"
   ]
  },
  {
   "cell_type": "code",
   "execution_count": 73,
   "metadata": {},
   "outputs": [],
   "source": [
    "def verify_matrix(matrix: list):\n",
    "    previus_value = len(matrix[0])\n",
    "    for line in matrix:\n",
    "        if len(line) != previus_value:\n",
    "            return None\n",
    "    return matrix\n",
    "\n",
    "\n",
    "def get_number_lines_columns(matrix):\n",
    "    lines = len(matrix)\n",
    "    columns = len(matrix[0])\n",
    "    return lines, columns\n",
    "\n",
    "\n",
    "def create_matrix(matrix):\n",
    "    matrix = verify_matrix(matrix)\n",
    "    return np.array(matrix)\n",
    "\n",
    "\n",
    "def show_matrix(matrix):\n",
    "    try:\n",
    "        for line in matrix:\n",
    "            for column in line:\n",
    "                print(str(column) + \" \", end=\"\")\n",
    "            print(\"\")\n",
    "    except:\n",
    "        print (\"Nothing to show\")"
   ]
  },
  {
   "cell_type": "code",
   "execution_count": 74,
   "metadata": {},
   "outputs": [],
   "source": [
    "def verify_add_rules(matrix_A, matrix_B):\n",
    "    matrix_A = verify_matrix(matrix_A)\n",
    "    matrix_B = verify_matrix(matrix_B)\n",
    "    try:\n",
    "        lines_A, columns_A = get_number_lines_columns(matrix_A)\n",
    "        lines_B, columns_B = get_number_lines_columns(matrix_B)\n",
    "        if (lines_A == lines_B) and (columns_A == columns_B):\n",
    "            return True, lines_A, columns_A\n",
    "        else:\n",
    "            return False, 0, 0\n",
    "    except:\n",
    "        return False, 0, 0\n",
    "\n",
    "    \n",
    "    \n",
    "    \n",
    "def add_matrices (matrix_A, matrix_B):\n",
    "    is_possible, lines, columns = verify_add_rules(matrix_A, matrix_B)\n",
    "    if (is_possible == False):\n",
    "        return None\n",
    "    result_matrix = np.zeros((lines, columns))\n",
    "    for i in range(0, lines):\n",
    "        for j in range (0, columns):\n",
    "            result_matrix[i][j] = matrix_A[i][j] + matrix_B[i][j]\n",
    "    return result_matrix"
   ]
  },
  {
   "cell_type": "code",
   "execution_count": 76,
   "metadata": {},
   "outputs": [
    {
     "name": "stdout",
     "output_type": "stream",
     "text": [
      "2.0 4.0 3.0 \n",
      "2.0 4.0 3.0 \n"
     ]
    }
   ],
   "source": [
    "matrix_A = create_matrix([[1, 2, 3], [1, 2, 3]])\n",
    "matrix_B = create_matrix([[1, 2, 0], [1, 2, 0]])\n",
    "r_matrix = add_matrices(matrix_A, matrix_B)\n",
    "show_matrix(r_matrix)"
   ]
  }
 ],
 "metadata": {
  "kernelspec": {
   "display_name": "Python 3",
   "language": "python",
   "name": "python3"
  },
  "language_info": {
   "codemirror_mode": {
    "name": "ipython",
    "version": 3
   },
   "file_extension": ".py",
   "mimetype": "text/x-python",
   "name": "python",
   "nbconvert_exporter": "python",
   "pygments_lexer": "ipython3",
   "version": "3.11.3"
  },
  "orig_nbformat": 4
 },
 "nbformat": 4,
 "nbformat_minor": 2
}
